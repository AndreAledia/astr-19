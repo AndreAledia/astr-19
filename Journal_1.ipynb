{
 "cells": [
  {
   "cell_type": "markdown",
   "id": "ab1bac42",
   "metadata": {},
   "source": [
    "# Journal 1 - #6"
   ]
  },
  {
   "cell_type": "code",
   "execution_count": null,
   "id": "ee1b9f02",
   "metadata": {},
   "outputs": [],
   "source": [
    "import math"
   ]
  },
  {
   "cell_type": "code",
   "execution_count": null,
   "id": "75cdd934",
   "metadata": {},
   "outputs": [],
   "source": [
    "# sin function using math lib\n",
    "def sin(x):\n",
    "    return math.sin(x)"
   ]
  },
  {
   "cell_type": "code",
   "execution_count": null,
   "id": "f23d2aed",
   "metadata": {},
   "outputs": [],
   "source": [
    "# cos function using math lib\n",
    "def cos(x):\n",
    "    return math.cos(x)"
   ]
  },
  {
   "cell_type": "code",
   "execution_count": null,
   "id": "bb4e2310",
   "metadata": {},
   "outputs": [],
   "source": [
    "# Tabulate sin and cos over x from 0 to 2pi\n",
    "import numpy as np\n",
    "\n",
    "# Create x from 0 to 2pi with 1000 entries\n",
    "x = np.linspace(0, 2 * np.pi, 1000)\n",
    "sine = np.sin(x)\n",
    "cosine = np.cos(x)"
   ]
  },
  {
   "cell_type": "code",
   "execution_count": null,
   "id": "42ba69a9",
   "metadata": {},
   "outputs": [],
   "source": [
    "# Print first 10 values (nicely)\n",
    "print(f\"{'i':>2} {'x':>12} {'sin(x)':>14} {'cos(x)':>14}\")\n",
    "for i in range(10):\n",
    "    x_values = x[i]\n",
    "    s_values = sine[i]\n",
    "    c_values = cosine[i]\n",
    "    print(f'{i:2d} {x_values:12.6f} {s_values:14.6f} {c_values:14.6f}')"
   ]
  }
 ],
 "metadata": {
  "kernelspec": {
   "display_name": "Python 3",
   "language": "python",
   "name": "python3"
  },
  "language_info": {
   "codemirror_mode": {
    "name": "ipython",
    "version": 3
   },
   "file_extension": ".py",
   "mimetype": "text/x-python",
   "name": "python",
   "nbconvert_exporter": "python",
   "pygments_lexer": "ipython3",
   "version": "3.13.7"
  }
 },
 "nbformat": 4,
 "nbformat_minor": 5
}
